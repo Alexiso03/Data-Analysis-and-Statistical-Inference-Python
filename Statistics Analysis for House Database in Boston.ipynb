{
 "cells": [
  {
   "cell_type": "markdown",
   "id": "d1258a3f",
   "metadata": {},
   "source": [
    "<h1>\n",
    "    Statistics For Data Science With Python \n",
    "    </h1>\n",
    "    \n",
    "Lets Import the Data set"
   ]
  },
  {
   "cell_type": "code",
   "execution_count": 64,
   "id": "7ce8e72b",
   "metadata": {},
   "outputs": [
    {
     "name": "stdout",
     "output_type": "stream",
     "text": [
      "Data Imported\n",
      "     Unnamed: 0     CRIM    ZN  INDUS  CHAS    NOX     RM   AGE     DIS  RAD  \\\n",
      "0             0  0.00632  18.0   2.31   0.0  0.538  6.575  65.2  4.0900  1.0   \n",
      "1             1  0.02731   0.0   7.07   0.0  0.469  6.421  78.9  4.9671  2.0   \n",
      "2             2  0.02729   0.0   7.07   0.0  0.469  7.185  61.1  4.9671  2.0   \n",
      "3             3  0.03237   0.0   2.18   0.0  0.458  6.998  45.8  6.0622  3.0   \n",
      "4             4  0.06905   0.0   2.18   0.0  0.458  7.147  54.2  6.0622  3.0   \n",
      "..          ...      ...   ...    ...   ...    ...    ...   ...     ...  ...   \n",
      "501         501  0.06263   0.0  11.93   0.0  0.573  6.593  69.1  2.4786  1.0   \n",
      "502         502  0.04527   0.0  11.93   0.0  0.573  6.120  76.7  2.2875  1.0   \n",
      "503         503  0.06076   0.0  11.93   0.0  0.573  6.976  91.0  2.1675  1.0   \n",
      "504         504  0.10959   0.0  11.93   0.0  0.573  6.794  89.3  2.3889  1.0   \n",
      "505         505  0.04741   0.0  11.93   0.0  0.573  6.030  80.8  2.5050  1.0   \n",
      "\n",
      "       TAX  PTRATIO  LSTAT  MEDV  \n",
      "0    296.0     15.3   4.98  24.0  \n",
      "1    242.0     17.8   9.14  21.6  \n",
      "2    242.0     17.8   4.03  34.7  \n",
      "3    222.0     18.7   2.94  33.4  \n",
      "4    222.0     18.7   5.33  36.2  \n",
      "..     ...      ...    ...   ...  \n",
      "501  273.0     21.0   9.67  22.4  \n",
      "502  273.0     21.0   9.08  20.6  \n",
      "503  273.0     21.0   5.64  23.9  \n",
      "504  273.0     21.0   6.48  22.0  \n",
      "505  273.0     21.0   7.88  11.9  \n",
      "\n",
      "[506 rows x 14 columns]\n"
     ]
    }
   ],
   "source": [
    "import pandas as pd\n",
    "import numpy as py\n",
    "import scipy.stats\n",
    "import matplotlib.pyplot as plt\n",
    "import seaborn as sns\n",
    "import statsmodels.api as sm\n",
    "\n",
    "boston_url = 'https://cf-courses-data.s3.us.cloud-object-storage.appdomain.cloud/IBMDeveloperSkillsNetwork-ST0151EN-SkillsNetwork/labs/boston_housing.csv'\n",
    "boston_df=pd.read_csv(boston_url)\n",
    "print('Data Imported')\n",
    "print(boston_df)"
   ]
  },
  {
   "cell_type": "markdown",
   "id": "de6eea75",
   "metadata": {},
   "source": [
    "Lets Print the Descriptive Stats of Dataset "
   ]
  },
  {
   "cell_type": "code",
   "execution_count": 5,
   "id": "1783233f",
   "metadata": {},
   "outputs": [
    {
     "data": {
      "text/html": [
       "<div>\n",
       "<style scoped>\n",
       "    .dataframe tbody tr th:only-of-type {\n",
       "        vertical-align: middle;\n",
       "    }\n",
       "\n",
       "    .dataframe tbody tr th {\n",
       "        vertical-align: top;\n",
       "    }\n",
       "\n",
       "    .dataframe thead th {\n",
       "        text-align: right;\n",
       "    }\n",
       "</style>\n",
       "<table border=\"1\" class=\"dataframe\">\n",
       "  <thead>\n",
       "    <tr style=\"text-align: right;\">\n",
       "      <th></th>\n",
       "      <th>Unnamed: 0</th>\n",
       "      <th>CRIM</th>\n",
       "      <th>ZN</th>\n",
       "      <th>INDUS</th>\n",
       "      <th>CHAS</th>\n",
       "      <th>NOX</th>\n",
       "      <th>RM</th>\n",
       "      <th>AGE</th>\n",
       "      <th>DIS</th>\n",
       "      <th>RAD</th>\n",
       "      <th>TAX</th>\n",
       "      <th>PTRATIO</th>\n",
       "      <th>LSTAT</th>\n",
       "      <th>MEDV</th>\n",
       "    </tr>\n",
       "  </thead>\n",
       "  <tbody>\n",
       "    <tr>\n",
       "      <th>count</th>\n",
       "      <td>506.000000</td>\n",
       "      <td>506.000000</td>\n",
       "      <td>506.000000</td>\n",
       "      <td>506.000000</td>\n",
       "      <td>506.000000</td>\n",
       "      <td>506.000000</td>\n",
       "      <td>506.000000</td>\n",
       "      <td>506.000000</td>\n",
       "      <td>506.000000</td>\n",
       "      <td>506.000000</td>\n",
       "      <td>506.000000</td>\n",
       "      <td>506.000000</td>\n",
       "      <td>506.000000</td>\n",
       "      <td>506.000000</td>\n",
       "    </tr>\n",
       "    <tr>\n",
       "      <th>mean</th>\n",
       "      <td>252.500000</td>\n",
       "      <td>3.613524</td>\n",
       "      <td>11.363636</td>\n",
       "      <td>11.136779</td>\n",
       "      <td>0.069170</td>\n",
       "      <td>0.554695</td>\n",
       "      <td>6.284634</td>\n",
       "      <td>68.574901</td>\n",
       "      <td>3.795043</td>\n",
       "      <td>9.549407</td>\n",
       "      <td>408.237154</td>\n",
       "      <td>18.455534</td>\n",
       "      <td>12.653063</td>\n",
       "      <td>22.532806</td>\n",
       "    </tr>\n",
       "    <tr>\n",
       "      <th>std</th>\n",
       "      <td>146.213884</td>\n",
       "      <td>8.601545</td>\n",
       "      <td>23.322453</td>\n",
       "      <td>6.860353</td>\n",
       "      <td>0.253994</td>\n",
       "      <td>0.115878</td>\n",
       "      <td>0.702617</td>\n",
       "      <td>28.148861</td>\n",
       "      <td>2.105710</td>\n",
       "      <td>8.707259</td>\n",
       "      <td>168.537116</td>\n",
       "      <td>2.164946</td>\n",
       "      <td>7.141062</td>\n",
       "      <td>9.197104</td>\n",
       "    </tr>\n",
       "    <tr>\n",
       "      <th>min</th>\n",
       "      <td>0.000000</td>\n",
       "      <td>0.006320</td>\n",
       "      <td>0.000000</td>\n",
       "      <td>0.460000</td>\n",
       "      <td>0.000000</td>\n",
       "      <td>0.385000</td>\n",
       "      <td>3.561000</td>\n",
       "      <td>2.900000</td>\n",
       "      <td>1.129600</td>\n",
       "      <td>1.000000</td>\n",
       "      <td>187.000000</td>\n",
       "      <td>12.600000</td>\n",
       "      <td>1.730000</td>\n",
       "      <td>5.000000</td>\n",
       "    </tr>\n",
       "    <tr>\n",
       "      <th>25%</th>\n",
       "      <td>126.250000</td>\n",
       "      <td>0.082045</td>\n",
       "      <td>0.000000</td>\n",
       "      <td>5.190000</td>\n",
       "      <td>0.000000</td>\n",
       "      <td>0.449000</td>\n",
       "      <td>5.885500</td>\n",
       "      <td>45.025000</td>\n",
       "      <td>2.100175</td>\n",
       "      <td>4.000000</td>\n",
       "      <td>279.000000</td>\n",
       "      <td>17.400000</td>\n",
       "      <td>6.950000</td>\n",
       "      <td>17.025000</td>\n",
       "    </tr>\n",
       "    <tr>\n",
       "      <th>50%</th>\n",
       "      <td>252.500000</td>\n",
       "      <td>0.256510</td>\n",
       "      <td>0.000000</td>\n",
       "      <td>9.690000</td>\n",
       "      <td>0.000000</td>\n",
       "      <td>0.538000</td>\n",
       "      <td>6.208500</td>\n",
       "      <td>77.500000</td>\n",
       "      <td>3.207450</td>\n",
       "      <td>5.000000</td>\n",
       "      <td>330.000000</td>\n",
       "      <td>19.050000</td>\n",
       "      <td>11.360000</td>\n",
       "      <td>21.200000</td>\n",
       "    </tr>\n",
       "    <tr>\n",
       "      <th>75%</th>\n",
       "      <td>378.750000</td>\n",
       "      <td>3.677083</td>\n",
       "      <td>12.500000</td>\n",
       "      <td>18.100000</td>\n",
       "      <td>0.000000</td>\n",
       "      <td>0.624000</td>\n",
       "      <td>6.623500</td>\n",
       "      <td>94.075000</td>\n",
       "      <td>5.188425</td>\n",
       "      <td>24.000000</td>\n",
       "      <td>666.000000</td>\n",
       "      <td>20.200000</td>\n",
       "      <td>16.955000</td>\n",
       "      <td>25.000000</td>\n",
       "    </tr>\n",
       "    <tr>\n",
       "      <th>max</th>\n",
       "      <td>505.000000</td>\n",
       "      <td>88.976200</td>\n",
       "      <td>100.000000</td>\n",
       "      <td>27.740000</td>\n",
       "      <td>1.000000</td>\n",
       "      <td>0.871000</td>\n",
       "      <td>8.780000</td>\n",
       "      <td>100.000000</td>\n",
       "      <td>12.126500</td>\n",
       "      <td>24.000000</td>\n",
       "      <td>711.000000</td>\n",
       "      <td>22.000000</td>\n",
       "      <td>37.970000</td>\n",
       "      <td>50.000000</td>\n",
       "    </tr>\n",
       "  </tbody>\n",
       "</table>\n",
       "</div>"
      ],
      "text/plain": [
       "       Unnamed: 0        CRIM          ZN       INDUS        CHAS         NOX  \\\n",
       "count  506.000000  506.000000  506.000000  506.000000  506.000000  506.000000   \n",
       "mean   252.500000    3.613524   11.363636   11.136779    0.069170    0.554695   \n",
       "std    146.213884    8.601545   23.322453    6.860353    0.253994    0.115878   \n",
       "min      0.000000    0.006320    0.000000    0.460000    0.000000    0.385000   \n",
       "25%    126.250000    0.082045    0.000000    5.190000    0.000000    0.449000   \n",
       "50%    252.500000    0.256510    0.000000    9.690000    0.000000    0.538000   \n",
       "75%    378.750000    3.677083   12.500000   18.100000    0.000000    0.624000   \n",
       "max    505.000000   88.976200  100.000000   27.740000    1.000000    0.871000   \n",
       "\n",
       "               RM         AGE         DIS         RAD         TAX     PTRATIO  \\\n",
       "count  506.000000  506.000000  506.000000  506.000000  506.000000  506.000000   \n",
       "mean     6.284634   68.574901    3.795043    9.549407  408.237154   18.455534   \n",
       "std      0.702617   28.148861    2.105710    8.707259  168.537116    2.164946   \n",
       "min      3.561000    2.900000    1.129600    1.000000  187.000000   12.600000   \n",
       "25%      5.885500   45.025000    2.100175    4.000000  279.000000   17.400000   \n",
       "50%      6.208500   77.500000    3.207450    5.000000  330.000000   19.050000   \n",
       "75%      6.623500   94.075000    5.188425   24.000000  666.000000   20.200000   \n",
       "max      8.780000  100.000000   12.126500   24.000000  711.000000   22.000000   \n",
       "\n",
       "            LSTAT        MEDV  \n",
       "count  506.000000  506.000000  \n",
       "mean    12.653063   22.532806  \n",
       "std      7.141062    9.197104  \n",
       "min      1.730000    5.000000  \n",
       "25%      6.950000   17.025000  \n",
       "50%     11.360000   21.200000  \n",
       "75%     16.955000   25.000000  \n",
       "max     37.970000   50.000000  "
      ]
     },
     "execution_count": 5,
     "metadata": {},
     "output_type": "execute_result"
    }
   ],
   "source": [
    "boston_df.describe()"
   ]
  },
  {
   "cell_type": "markdown",
   "id": "3496b898",
   "metadata": {},
   "source": [
    "<h3> Generate Descriptive Statistics and Visualizations</h3>\n",
    "\n",
    "Generate the following and explain your findings:\n",
    "\n",
    "<b>1. For the \"Median value of owner-occupied homes\" provide a boxplot</b>"
   ]
  },
  {
   "cell_type": "code",
   "execution_count": 7,
   "id": "4227c735",
   "metadata": {},
   "outputs": [
    {
     "data": {
      "text/plain": [
       "Text(0.5, 1.0, 'Median value of owner-occupied homes')"
      ]
     },
     "execution_count": 7,
     "metadata": {},
     "output_type": "execute_result"
    },
    {
     "data": {
      "image/png": "[encoded data removed]",
      "text/plain": [
       "<Figure size 432x288 with 1 Axes>"
      ]
     },
     "metadata": {
      "needs_background": "light"
     },
     "output_type": "display_data"
    }
   ],
   "source": [
    "sns.boxplot(x='MEDV', data=boston_df)\n",
    "plt.title('Median value of owner-occupied homes')"
   ]
  },
  {
   "cell_type": "markdown",
   "id": "33f873c5",
   "metadata": {},
   "source": [
    "Quartile distribution of the owner occupied homes ranges from 17 to 25, q1 or 25% of range = 17 q2 or 75% of range = 25 and median = 21"
   ]
  },
  {
   "cell_type": "markdown",
   "id": "23b961ea",
   "metadata": {},
   "source": [
    "\n",
    "<hr>\n",
    "Generate the following and explain your findings:\n",
    "\n",
    "<b>2. Provide a  histogram for the Charles river variable</b>"
   ]
  },
  {
   "cell_type": "code",
   "execution_count": 25,
   "id": "fcc587b6",
   "metadata": {},
   "outputs": [
    {
     "name": "stderr",
     "output_type": "stream",
     "text": [
      "D:\\Anaconda\\Anaconda\\lib\\site-packages\\seaborn\\distributions.py:2557: FutureWarning: `distplot` is a deprecated function and will be removed in a future version. Please adapt your code to use either `displot` (a figure-level function with similar flexibility) or `histplot` (an axes-level function for histograms).\n",
      "  warnings.warn(msg, FutureWarning)\n"
     ]
    },
    {
     "data": {
      "text/plain": [
       "Text(0.5, 1.0, 'Histogram for the Charles river variable')"
      ]
     },
     "execution_count": 25,
     "metadata": {},
     "output_type": "execute_result"
    },
    {
     "data": {
      "image/png": "[encoded data removed]",
      "text/plain": [
       "<Figure size 432x288 with 1 Axes>"
      ]
     },
     "metadata": {
      "needs_background": "light"
     },
     "output_type": "display_data"
    }
   ],
   "source": [
    "ax=sns.distplot(boston_df['CHAS'])\n",
    "plt.hist(boston_df['CHAS'])\n",
    "plt.xlabel('Charles River Var')\n",
    "plt.title('Histogram for the Charles river variable')"
   ]
  },
  {
   "cell_type": "markdown",
   "id": "201239ed",
   "metadata": {},
   "source": [
    "Through the histogram we can say that tract bounds river are majorly found   "
   ]
  },
  {
   "cell_type": "markdown",
   "id": "96f60ef5",
   "metadata": {},
   "source": [
    "<hr>\n",
    "Generate the following and explain your findings:\n",
    "\n",
    "<b>3. Provide a boxplot for the MEDV variable vs the AGE variable. (Discretize the age variable into three groups of 35 years and younger, between 35 and 70 years and 70 years and older)</b>"
   ]
  },
  {
   "cell_type": "code",
   "execution_count": 34,
   "id": "b3db1270",
   "metadata": {},
   "outputs": [
    {
     "data": {
      "text/plain": [
       "<AxesSubplot:xlabel='AGE_Var', ylabel='MEDV'>"
      ]
     },
     "execution_count": 34,
     "metadata": {},
     "output_type": "execute_result"
    },
    {
     "data": {
      "image/png": "[encoded data removed]",
      "text/plain": [
       "<Figure size 432x288 with 1 Axes>"
      ]
     },
     "metadata": {
      "needs_background": "light"
     },
     "output_type": "display_data"
    }
   ],
   "source": [
    "boston_df.loc[(boston_df['AGE'] <= 35), 'AGE_Var'] = '35 years and younger'\n",
    "boston_df.loc[(boston_df['AGE'] > 35)&(boston_df['AGE'] < 70), 'AGE_Var'] = 'In 35 and 70 years'\n",
    "boston_df.loc[(boston_df['AGE'] >= 70), 'AGE_Var'] = '70 years and older'\n",
    "\n",
    "sns.boxplot(x='AGE_Var', y='MEDV', data=boston_df)\n",
    "plt.title('Boxplot for the MEDV variable vs the AGE variable')"
   ]
  },
  {
   "cell_type": "markdown",
   "id": "dbb455f3",
   "metadata": {},
   "source": [
    "<hr>\n",
    "Generate the following and explain your findings:\n",
    "\n",
    "<b>4. Provide a scatter plot to show the relationship between Nitric oxide concentrations and the proportion of non-retail business acres per town.</b>"
   ]
  },
  {
   "cell_type": "code",
   "execution_count": 37,
   "id": "923256e0",
   "metadata": {},
   "outputs": [
    {
     "data": {
      "text/plain": [
       "Text(0.5, 1.0, 'Relationship between Nitric oxide concentrations and the proportion of non-retail business')"
      ]
     },
     "execution_count": 37,
     "metadata": {},
     "output_type": "execute_result"
    },
    {
     "data": {
      "image/png": "[encoded data removed]",
      "text/plain": [
       "<Figure size 432x288 with 1 Axes>"
      ]
     },
     "metadata": {
      "needs_background": "light"
     },
     "output_type": "display_data"
    }
   ],
   "source": [
    "sns.scatterplot(x='NOX', y='INDUS',data=boston_df,color='red')\n",
    "plt.title('Relationship between Nitric oxide concentrations and the proportion of non-retail business')\n"
   ]
  },
  {
   "cell_type": "markdown",
   "id": "a1fb6335",
   "metadata": {},
   "source": [
    "A linear relation ship is seen between Nitric oxide concentrations and the proportion of non-retail business"
   ]
  },
  {
   "cell_type": "markdown",
   "id": "54686227",
   "metadata": {},
   "source": [
    "<hr>\n",
    "Generate the following and explain your findings:\n",
    "\n",
    "<b>5. Create a histogram for the pupil to teacher ratio variable</b>"
   ]
  },
  {
   "cell_type": "code",
   "execution_count": 54,
   "id": "f20f20ce",
   "metadata": {},
   "outputs": [
    {
     "data": {
      "text/plain": [
       "Text(0.5, 0, 'Pupil To Teacher Ratio')"
      ]
     },
     "execution_count": 54,
     "metadata": {},
     "output_type": "execute_result"
    },
    {
     "data": {
      "image/png": "[encoded data removed]",
      "text/plain": [
       "<Figure size 432x288 with 1 Axes>"
      ]
     },
     "metadata": {
      "needs_background": "light"
     },
     "output_type": "display_data"
    }
   ],
   "source": [
    "plt.hist(boston_df['PTRATIO'], edgecolor = 'black', bins = 30)\n",
    "plt.title('Histogram for the pupil to teacher ratio variable')\n",
    "plt.xlabel('Pupil To Teacher Ratio')"
   ]
  },
  {
   "cell_type": "markdown",
   "id": "e9a51e61",
   "metadata": {},
   "source": [
    "<hr>\n",
    "<h3>Use the appropriate tests to answer the questions provided</h3>\n",
    "\n",
    "For each of the following questions; (alpha = 0.05)\n",
    "\n",
    "<b>1. Is there a significant difference in median value of houses bounded by the Charles river or not? (T-test for independent samples)</b>"
   ]
  },
  {
   "cell_type": "code",
   "execution_count": 63,
   "id": "e530c049",
   "metadata": {},
   "outputs": [
    {
     "data": {
      "text/plain": [
       "Ttest_indResult(statistic=nan, pvalue=nan)"
      ]
     },
     "execution_count": 63,
     "metadata": {},
     "output_type": "execute_result"
    }
   ],
   "source": [
    "# Hypothesis\n",
    "#H0:There is no significant difference in the mean values of median value of houses and Charles river variables (Null Hypothesis)\n",
    "#H1:There is a significant difference in the mean values of median value of houses and Charles river variables\n",
    "\n",
    "scipy.stats.ttest_ind(boston_df[boston_df['CHAS'] == '1']['MEDV'],\n",
    "                   boston_df[boston_df['CHAS'] == '0']['MEDV'], equal_var = True)\n"
   ]
  },
  {
   "cell_type": "code",
   "execution_count": 65,
   "id": "acd83a2a",
   "metadata": {},
   "outputs": [
    {
     "data": {
      "text/html": [
       "<table class=\"simpletable\">\n",
       "<caption>OLS Regression Results</caption>\n",
       "<tr>\n",
       "  <th>Dep. Variable:</th>          <td>MEDV</td>       <th>  R-squared:         </th> <td>   0.031</td>\n",
       "</tr>\n",
       "<tr>\n",
       "  <th>Model:</th>                   <td>OLS</td>       <th>  Adj. R-squared:    </th> <td>   0.029</td>\n",
       "</tr>\n",
       "<tr>\n",
       "  <th>Method:</th>             <td>Least Squares</td>  <th>  F-statistic:       </th> <td>   15.97</td>\n",
       "</tr>\n",
       "<tr>\n",
       "  <th>Date:</th>             <td>Tue, 07 Sep 2021</td> <th>  Prob (F-statistic):</th> <td>7.39e-05</td>\n",
       "</tr>\n",
       "<tr>\n",
       "  <th>Time:</th>                 <td>22:39:07</td>     <th>  Log-Likelihood:    </th> <td> -1832.3</td>\n",
       "</tr>\n",
       "<tr>\n",
       "  <th>No. Observations:</th>      <td>   506</td>      <th>  AIC:               </th> <td>   3669.</td>\n",
       "</tr>\n",
       "<tr>\n",
       "  <th>Df Residuals:</th>          <td>   504</td>      <th>  BIC:               </th> <td>   3677.</td>\n",
       "</tr>\n",
       "<tr>\n",
       "  <th>Df Model:</th>              <td>     1</td>      <th>                     </th>     <td> </td>   \n",
       "</tr>\n",
       "<tr>\n",
       "  <th>Covariance Type:</th>      <td>nonrobust</td>    <th>                     </th>     <td> </td>   \n",
       "</tr>\n",
       "</table>\n",
       "<table class=\"simpletable\">\n",
       "<tr>\n",
       "    <td></td>       <th>coef</th>     <th>std err</th>      <th>t</th>      <th>P>|t|</th>  <th>[0.025</th>    <th>0.975]</th>  \n",
       "</tr>\n",
       "<tr>\n",
       "  <th>const</th> <td>   22.0938</td> <td>    0.418</td> <td>   52.902</td> <td> 0.000</td> <td>   21.273</td> <td>   22.914</td>\n",
       "</tr>\n",
       "<tr>\n",
       "  <th>CHAS</th>  <td>    6.3462</td> <td>    1.588</td> <td>    3.996</td> <td> 0.000</td> <td>    3.226</td> <td>    9.466</td>\n",
       "</tr>\n",
       "</table>\n",
       "<table class=\"simpletable\">\n",
       "<tr>\n",
       "  <th>Omnibus:</th>       <td>81.923</td> <th>  Durbin-Watson:     </th> <td>   0.579</td>\n",
       "</tr>\n",
       "<tr>\n",
       "  <th>Prob(Omnibus):</th> <td> 0.000</td> <th>  Jarque-Bera (JB):  </th> <td> 125.534</td>\n",
       "</tr>\n",
       "<tr>\n",
       "  <th>Skew:</th>          <td> 1.043</td> <th>  Prob(JB):          </th> <td>5.50e-28</td>\n",
       "</tr>\n",
       "<tr>\n",
       "  <th>Kurtosis:</th>      <td> 4.267</td> <th>  Cond. No.          </th> <td>    3.96</td>\n",
       "</tr>\n",
       "</table><br/><br/>Notes:<br/>[1] Standard Errors assume that the covariance matrix of the errors is correctly specified."
      ],
      "text/plain": [
       "<class 'statsmodels.iolib.summary.Summary'>\n",
       "\"\"\"\n",
       "                            OLS Regression Results                            \n",
       "==============================================================================\n",
       "Dep. Variable:                   MEDV   R-squared:                       0.031\n",
       "Model:                            OLS   Adj. R-squared:                  0.029\n",
       "Method:                 Least Squares   F-statistic:                     15.97\n",
       "Date:                Tue, 07 Sep 2021   Prob (F-statistic):           7.39e-05\n",
       "Time:                        22:39:07   Log-Likelihood:                -1832.3\n",
       "No. Observations:                 506   AIC:                             3669.\n",
       "Df Residuals:                     504   BIC:                             3677.\n",
       "Df Model:                           1                                         \n",
       "Covariance Type:            nonrobust                                         \n",
       "==============================================================================\n",
       "                 coef    std err          t      P>|t|      [0.025      0.975]\n",
       "------------------------------------------------------------------------------\n",
       "const         22.0938      0.418     52.902      0.000      21.273      22.914\n",
       "CHAS           6.3462      1.588      3.996      0.000       3.226       9.466\n",
       "==============================================================================\n",
       "Omnibus:                       81.923   Durbin-Watson:                   0.579\n",
       "Prob(Omnibus):                  0.000   Jarque-Bera (JB):              125.534\n",
       "Skew:                           1.043   Prob(JB):                     5.50e-28\n",
       "Kurtosis:                       4.267   Cond. No.                         3.96\n",
       "==============================================================================\n",
       "\n",
       "Notes:\n",
       "[1] Standard Errors assume that the covariance matrix of the errors is correctly specified.\n",
       "\"\"\""
      ]
     },
     "execution_count": 65,
     "metadata": {},
     "output_type": "execute_result"
    }
   ],
   "source": [
    "# As pvalue comes out to be Nan therefore it may be very low thus to cross check lets do regression analysis\n",
    "x=boston_df['CHAS']\n",
    "y=boston_df['MEDV']\n",
    "x=sm.add_constant(x)\n",
    "model=sm.OLS(y,x).fit()\n",
    "model.predict(x)\n",
    "model.summary()"
   ]
  },
  {
   "cell_type": "markdown",
   "id": "2cc7d08b",
   "metadata": {},
   "source": [
    "<b>Conclusion:</b> Here we get to confirm that the P value is 0 which without doubt less than 0.05 thus we can reject our null hypothesis and opt the other hypothesis"
   ]
  },
  {
   "cell_type": "markdown",
   "id": "a8bac853",
   "metadata": {},
   "source": [
    "<hr>\n",
    "For each of the following questions;\n",
    "\n",
    "<b>2. Is there a difference in Median values of houses (MEDV) for each proportion of owner occupied units built prior to 1940 (AGE)? (ANOVA)</b>"
   ]
  },
  {
   "cell_type": "code",
   "execution_count": 67,
   "id": "1528f117",
   "metadata": {},
   "outputs": [
    {
     "name": "stdout",
     "output_type": "stream",
     "text": [
      "F_statistic:36.40764999196599, P-value:1.7105011022702984e-15\n"
     ]
    }
   ],
   "source": [
    "# Hypothesis\n",
    "#H0: All age groups have same mean values (Null Hypothesis)\n",
    "#H1: Atleast one age group mean differs\n",
    "\n",
    "boston_df.loc[(boston_df['AGE'] <= 35), 'AGE_Var'] = '35 years and younger'\n",
    "boston_df.loc[(boston_df['AGE'] > 35)&(boston_df['AGE'] < 70), 'AGE_Var'] = 'In 35 and 70 years'\n",
    "boston_df.loc[(boston_df['AGE'] >= 70), 'AGE_Var'] = '70 years and older'\n",
    "\n",
    "Thirtyfive_lower= boston_df[boston_df['AGE_Var'] == '35 years and younger']['MEDV']\n",
    "Thirtyfive_seventy= boston_df[boston_df['AGE_Var'] == 'In 35 and 70 years']['MEDV']\n",
    "Seventy_older= boston_df[boston_df['AGE_Var'] == '70 years and older']['MEDV']\n",
    "\n",
    "\n",
    "f_statistic,p_value=scipy.stats.f_oneway(Thirtyfive_lower,Thirtyfive_seventy,Seventy_older)\n",
    "print(\"F_statistic:{0}, P-value:{1}\".format(f_statistic,p_value))"
   ]
  },
  {
   "cell_type": "markdown",
   "id": "385cc1a1",
   "metadata": {},
   "source": [
    "<b>Conclusion:</b> Here we get to know the P value is 1.7105011022702984e-15 which is less than 0.05 therefore we reject the null hypothesis and opt the other hypothesis"
   ]
  },
  {
   "cell_type": "markdown",
   "id": "72f9547d",
   "metadata": {},
   "source": [
    "<hr>\n",
    "For each of the following questions;\n",
    "\n",
    "<b>3. Can we conclude that there is no relationship between Nitric oxide concentrations and proportion of non-retail business acres per town? (Pearson Correlation)</b>"
   ]
  },
  {
   "cell_type": "code",
   "execution_count": 68,
   "id": "74c72d3a",
   "metadata": {},
   "outputs": [
    {
     "data": {
      "text/plain": [
       "(0.7636514469209161, 7.913361061230596e-98)"
      ]
     },
     "execution_count": 68,
     "metadata": {},
     "output_type": "execute_result"
    }
   ],
   "source": [
    "# Hypothesis\n",
    "#H0: there is no correlation between  Nitric oxide concentrations and proportion of non-retail business acres per town (Null Hypothesis)\n",
    "#H1: there is a correlation between  Nitric oxide concentrations and proportion of non-retail business acres per town\n",
    "\n",
    "scipy.stats.pearsonr(boston_df['NOX'], boston_df['INDUS'])\n"
   ]
  },
  {
   "cell_type": "markdown",
   "id": "21f5c655",
   "metadata": {},
   "source": [
    "<b>Conclusion:</b> Here we get to know the P value is 7.913361061230596e-98 which is less than 0.05 therefore we reject the null hypothesis and opt the other hypothesis"
   ]
  },
  {
   "cell_type": "markdown",
   "id": "f0b39397",
   "metadata": {},
   "source": [
    "<hr>\n",
    "For each of the following questions;\n",
    "\n",
    "<b>4. What is the impact of an additional weighted distance to the five Boston employment centres on the median value of owner occupied homes? (Regression analysis)</b>"
   ]
  },
  {
   "cell_type": "code",
   "execution_count": 69,
   "id": "d8ca563a",
   "metadata": {},
   "outputs": [
    {
     "data": {
      "text/html": [
       "<table class=\"simpletable\">\n",
       "<caption>OLS Regression Results</caption>\n",
       "<tr>\n",
       "  <th>Dep. Variable:</th>          <td>MEDV</td>       <th>  R-squared:         </th> <td>   0.062</td>\n",
       "</tr>\n",
       "<tr>\n",
       "  <th>Model:</th>                   <td>OLS</td>       <th>  Adj. R-squared:    </th> <td>   0.061</td>\n",
       "</tr>\n",
       "<tr>\n",
       "  <th>Method:</th>             <td>Least Squares</td>  <th>  F-statistic:       </th> <td>   33.58</td>\n",
       "</tr>\n",
       "<tr>\n",
       "  <th>Date:</th>             <td>Tue, 07 Sep 2021</td> <th>  Prob (F-statistic):</th> <td>1.21e-08</td>\n",
       "</tr>\n",
       "<tr>\n",
       "  <th>Time:</th>                 <td>23:02:46</td>     <th>  Log-Likelihood:    </th> <td> -1823.9</td>\n",
       "</tr>\n",
       "<tr>\n",
       "  <th>No. Observations:</th>      <td>   506</td>      <th>  AIC:               </th> <td>   3652.</td>\n",
       "</tr>\n",
       "<tr>\n",
       "  <th>Df Residuals:</th>          <td>   504</td>      <th>  BIC:               </th> <td>   3660.</td>\n",
       "</tr>\n",
       "<tr>\n",
       "  <th>Df Model:</th>              <td>     1</td>      <th>                     </th>     <td> </td>   \n",
       "</tr>\n",
       "<tr>\n",
       "  <th>Covariance Type:</th>      <td>nonrobust</td>    <th>                     </th>     <td> </td>   \n",
       "</tr>\n",
       "</table>\n",
       "<table class=\"simpletable\">\n",
       "<tr>\n",
       "    <td></td>       <th>coef</th>     <th>std err</th>      <th>t</th>      <th>P>|t|</th>  <th>[0.025</th>    <th>0.975]</th>  \n",
       "</tr>\n",
       "<tr>\n",
       "  <th>const</th> <td>   18.3901</td> <td>    0.817</td> <td>   22.499</td> <td> 0.000</td> <td>   16.784</td> <td>   19.996</td>\n",
       "</tr>\n",
       "<tr>\n",
       "  <th>DIS</th>   <td>    1.0916</td> <td>    0.188</td> <td>    5.795</td> <td> 0.000</td> <td>    0.722</td> <td>    1.462</td>\n",
       "</tr>\n",
       "</table>\n",
       "<table class=\"simpletable\">\n",
       "<tr>\n",
       "  <th>Omnibus:</th>       <td>139.779</td> <th>  Durbin-Watson:     </th> <td>   0.570</td>\n",
       "</tr>\n",
       "<tr>\n",
       "  <th>Prob(Omnibus):</th> <td> 0.000</td>  <th>  Jarque-Bera (JB):  </th> <td> 305.104</td>\n",
       "</tr>\n",
       "<tr>\n",
       "  <th>Skew:</th>          <td> 1.466</td>  <th>  Prob(JB):          </th> <td>5.59e-67</td>\n",
       "</tr>\n",
       "<tr>\n",
       "  <th>Kurtosis:</th>      <td> 5.424</td>  <th>  Cond. No.          </th> <td>    9.32</td>\n",
       "</tr>\n",
       "</table><br/><br/>Notes:<br/>[1] Standard Errors assume that the covariance matrix of the errors is correctly specified."
      ],
      "text/plain": [
       "<class 'statsmodels.iolib.summary.Summary'>\n",
       "\"\"\"\n",
       "                            OLS Regression Results                            \n",
       "==============================================================================\n",
       "Dep. Variable:                   MEDV   R-squared:                       0.062\n",
       "Model:                            OLS   Adj. R-squared:                  0.061\n",
       "Method:                 Least Squares   F-statistic:                     33.58\n",
       "Date:                Tue, 07 Sep 2021   Prob (F-statistic):           1.21e-08\n",
       "Time:                        23:02:46   Log-Likelihood:                -1823.9\n",
       "No. Observations:                 506   AIC:                             3652.\n",
       "Df Residuals:                     504   BIC:                             3660.\n",
       "Df Model:                           1                                         \n",
       "Covariance Type:            nonrobust                                         \n",
       "==============================================================================\n",
       "                 coef    std err          t      P>|t|      [0.025      0.975]\n",
       "------------------------------------------------------------------------------\n",
       "const         18.3901      0.817     22.499      0.000      16.784      19.996\n",
       "DIS            1.0916      0.188      5.795      0.000       0.722       1.462\n",
       "==============================================================================\n",
       "Omnibus:                      139.779   Durbin-Watson:                   0.570\n",
       "Prob(Omnibus):                  0.000   Jarque-Bera (JB):              305.104\n",
       "Skew:                           1.466   Prob(JB):                     5.59e-67\n",
       "Kurtosis:                       5.424   Cond. No.                         9.32\n",
       "==============================================================================\n",
       "\n",
       "Notes:\n",
       "[1] Standard Errors assume that the covariance matrix of the errors is correctly specified.\n",
       "\"\"\""
      ]
     },
     "execution_count": 69,
     "metadata": {},
     "output_type": "execute_result"
    }
   ],
   "source": [
    "# Hypothesis\n",
    "#H0: There is no impact of an additional weighted distance to the five Boston employment centres on the median value of owner occupied homes (Null Hypothesis)\n",
    "#H1: There is an impact of an additional weighted distance to the five Boston employment centres on the median value of owner occupied homes\n",
    "\n",
    "x= boston_df['DIS']\n",
    "y= boston_df['MEDV']\n",
    "x= sm.add_constant(x) \n",
    "model=sm.OLS(y,x).fit()\n",
    "model.predict(x)\n",
    "model.summary()"
   ]
  },
  {
   "cell_type": "markdown",
   "id": "77fd7200",
   "metadata": {},
   "source": [
    "<b>Conclusion:</b> Here we get to know the P value is 1.21e-08 which is less than 0.05 therefore we reject the null hypothesis and see that for every additional weighted distance, median value of owner occupied homes increases by <b>1.09 unit</b>"
   ]
  }
 ],
 "metadata": {
  "kernelspec": {
   "display_name": "Python 3",
   "language": "python",
   "name": "python3"
  },
  "language_info": {
   "codemirror_mode": {
    "name": "ipython",
    "version": 3
   },
   "file_extension": ".py",
   "mimetype": "text/x-python",
   "name": "python",
   "nbconvert_exporter": "python",
   "pygments_lexer": "ipython3",
   "version": "3.8.8"
  }
 },
 "nbformat": 4,
 "nbformat_minor": 5
}
